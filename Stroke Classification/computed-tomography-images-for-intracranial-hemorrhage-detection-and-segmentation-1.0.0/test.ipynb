{
 "cells": [
  {
   "cell_type": "code",
   "execution_count": 37,
   "id": "2c75bba6",
   "metadata": {},
   "outputs": [
    {
     "name": "stdout",
     "output_type": "stream",
     "text": [
      "hi\n"
     ]
    },
    {
     "name": "stderr",
     "output_type": "stream",
     "text": [
      "  0%|                                                                                           | 0/82 [00:00<?, ?it/s]"
     ]
    },
    {
     "name": "stdout",
     "output_type": "stream",
     "text": [
      "C:\\Users\\MSI GF63\\Desktop\\SUPCOM\\3emeannée\\tuto\\computed-tomography-images-for-intracranial-hemorrhage-detection-and-segmentation-1.0.0\\Patients_CT\\049\\brain\\1.jpg\n"
     ]
    },
    {
     "name": "stderr",
     "output_type": "stream",
     "text": [
      "\n"
     ]
    },
    {
     "ename": "error",
     "evalue": "OpenCV(4.6.0) D:\\a\\opencv-python\\opencv-python\\opencv\\modules\\highgui\\src\\window.cpp:967: error: (-215:Assertion failed) size.width>0 && size.height>0 in function 'cv::imshow'\n",
     "output_type": "error",
     "traceback": [
      "\u001b[1;31m---------------------------------------------------------------------------\u001b[0m",
      "\u001b[1;31merror\u001b[0m                                     Traceback (most recent call last)",
      "\u001b[1;32m~\\AppData\\Local\\Temp\\ipykernel_8888\\2357823226.py\u001b[0m in \u001b[0;36m<module>\u001b[1;34m\u001b[0m\n\u001b[0;32m     55\u001b[0m \u001b[1;33m\u001b[0m\u001b[0m\n\u001b[0;32m     56\u001b[0m         \u001b[0mimg\u001b[0m \u001b[1;33m=\u001b[0m \u001b[0mcv\u001b[0m\u001b[1;33m.\u001b[0m\u001b[0mimread\u001b[0m\u001b[1;33m(\u001b[0m\u001b[0mimg_path\u001b[0m\u001b[1;33m)\u001b[0m\u001b[1;33m\u001b[0m\u001b[1;33m\u001b[0m\u001b[0m\n\u001b[1;32m---> 57\u001b[1;33m         \u001b[0mcv\u001b[0m\u001b[1;33m.\u001b[0m\u001b[0mimshow\u001b[0m\u001b[1;33m(\u001b[0m\u001b[1;34m'image'\u001b[0m\u001b[1;33m,\u001b[0m \u001b[0mimg\u001b[0m\u001b[1;33m)\u001b[0m\u001b[1;33m\u001b[0m\u001b[1;33m\u001b[0m\u001b[0m\n\u001b[0m\u001b[0;32m     58\u001b[0m \u001b[1;33m\u001b[0m\u001b[0m\n\u001b[0;32m     59\u001b[0m \u001b[1;33m\u001b[0m\u001b[0m\n",
      "\u001b[1;31merror\u001b[0m: OpenCV(4.6.0) D:\\a\\opencv-python\\opencv-python\\opencv\\modules\\highgui\\src\\window.cpp:967: error: (-215:Assertion failed) size.width>0 && size.height>0 in function 'cv::imshow'\n"
     ]
    }
   ],
   "source": [
    "# This code loads the grayscale images of the brain-window\n",
    "# for each subject in Patient_CT folder.\n",
    "# The code resizes the images and saves them to one folder (tarin\\image).\n",
    "# Their segmentation is saved to another folder (train\\label).\n",
    "\n",
    "import os\n",
    "from pathlib import Path\n",
    "import string\n",
    "import numpy as np\n",
    "import pandas as pd\n",
    "from tqdm import tqdm\n",
    "\n",
    "import scipy as sp\n",
    "# from scipy.misc import imread, imresize, imsave\n",
    "import cv2 as cv\n",
    "\n",
    "numSubj = 82\n",
    "new_size = (512, 512)\n",
    "currentDir = Path(os.getcwd())\n",
    "datasetDir = str(Path(currentDir, 'Patients_CT'))\n",
    "# print(datasetDir)\n",
    "\n",
    "# Reading labels\n",
    "hemorrhage_diagnosis_df = pd.read_csv('C:/Users/MSI GF63/Desktop/SUPCOM/3emeannée/tuto/computed-tomography-images-for-intracranial-hemorrhage-detection-and-segmentation-1.0.0/hemorrhage_diagnosis.csv')\n",
    "# print(hemorrhage_diagnosis_array)\n",
    "hemorrhage_diagnosis_array = hemorrhage_diagnosis_df.values\n",
    "print('hi')\n",
    "# reading images\n",
    "AllCTscans = np.zeros([hemorrhage_diagnosis_array.shape[0],\n",
    "                       new_size[0], new_size[1]], dtype=np.uint8)\n",
    "Allsegment = np.zeros([hemorrhage_diagnosis_array.shape[0],\n",
    "                       new_size[0], new_size[1]], dtype=np.uint8)\n",
    "\n",
    "train_path = Path('train')\n",
    "image_path = train_path / 'image'\n",
    "label_path = train_path / 'label'\n",
    "if not train_path.exists():\n",
    "    train_path.mkdir()\n",
    "    image_path.mkdir()\n",
    "    label_path.mkdir()\n",
    "\n",
    "counterI = 0\n",
    "for sNo in tqdm(range(0+49, numSubj+49)):\n",
    "    datasetDirSubj = Path(datasetDir, \"{0:0=3d}\".format(sNo))\n",
    "#     print(datasetDirSubj)\n",
    "\n",
    "    idx = hemorrhage_diagnosis_array[:, 0] == sNo\n",
    "    sliceNos = hemorrhage_diagnosis_array[idx, 1]\n",
    "    NoHemorrhage = hemorrhage_diagnosis_array[idx, 7]\n",
    "    for sliceI in range(0, sliceNos.size):\n",
    "        \n",
    "        img_path = Path(datasetDirSubj, 'brain','{}.jpg' .format(sliceNos[sliceI]))\n",
    "        img_path=str(img_path)\n",
    "        print(img_path)\n",
    "\n",
    "        img = cv.imread(img_path)\n",
    "        cv.imshow('image', img)\n",
    "\n",
    "\n",
    "        x = cv.resize(img, new_size)\n",
    "        AllCTscans[counterI] = x\n",
    "        filename_img=image_path +'/'+ str(counterI) + '.png'\n",
    "        cv.imwrite(filename_img , x)\n",
    "\n",
    "        print('hi')\n",
    "        # Saving the segmentation for a given slice\n",
    "        segment_path = Path(datasetDirSubj, 'brain', str(\n",
    "            sliceNos[sliceI]) + '_HGE_Seg.jpg')\n",
    "        if os.path.exists(str(segment_path)):\n",
    "            img = cv.imread(segment_path)\n",
    "            x = cv.resize(img, new_size)\n",
    "            # Because of the resize the image has some values that are not 0\n",
    "            # or 255, so make them 0 or 255\n",
    "            x = np.where(x > 128, 255, 0)\n",
    "            filename_lbl=label_path +'/'+ str(counterI) + '.png'\n",
    "            cv.imwrite(filename , x)\n",
    "        else:\n",
    "            x = np.zeros([new_size[0], new_size[1]], dtype=np.uint8)\n",
    "            cv.imwrite(label_path / (str(counterI) + '.png'), x)\n",
    "        Allsegment[counterI] = x\n",
    "\n",
    "        counterI = counterI+1\n"
   ]
  },
  {
   "cell_type": "code",
   "execution_count": null,
   "id": "601b7629",
   "metadata": {},
   "outputs": [],
   "source": []
  }
 ],
 "metadata": {
  "kernelspec": {
   "display_name": "Python 3 (ipykernel)",
   "language": "python",
   "name": "python3"
  },
  "language_info": {
   "codemirror_mode": {
    "name": "ipython",
    "version": 3
   },
   "file_extension": ".py",
   "mimetype": "text/x-python",
   "name": "python",
   "nbconvert_exporter": "python",
   "pygments_lexer": "ipython3",
   "version": "3.9.13"
  }
 },
 "nbformat": 4,
 "nbformat_minor": 5
}
