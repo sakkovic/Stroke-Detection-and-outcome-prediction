{
 "cells": [
  {
   "cell_type": "code",
   "execution_count": 5,
   "metadata": {
    "id": "AZQrOz87M-Kr"
   },
   "outputs": [],
   "source": [
    "# Importing important libraries\n",
    "import matplotlib\n",
    "import matplotlib.pyplot as plt\n",
    "import pandas as pd\n",
    "import numpy as np\n",
    "from sklearn import metrics\n",
    "from sklearn import preprocessing\n",
    "from sklearn.model_selection import train_test_split\n",
    "from sklearn.naive_bayes import GaussianNB\n",
    "from sklearn.metrics import classification_report\n",
    "from sklearn.metrics import confusion_matrix\n",
    "from sklearn.ensemble import ExtraTreesClassifier\n",
    "from sklearn.model_selection import KFold\n",
    "from sklearn.model_selection import cross_val_score\n",
    "from sklearn.neighbors import KNeighborsClassifier\n",
    "from sklearn.svm import SVC\n",
    "from sklearn.naive_bayes import GaussianNB\n",
    "from sklearn.tree import DecisionTreeClassifier"
   ]
  },
  {
   "cell_type": "code",
   "execution_count": 6,
   "metadata": {
    "colab": {
     "base_uri": "https://localhost:8080/"
    },
    "id": "mz5Nbf0bO_Zn",
    "outputId": "739bc7d6-7847-4182-8b7b-dd3d8a05051b"
   },
   "outputs": [],
   "source": [
    "# from google.colab import drive\n",
    "# drive.mount('/content/drive')"
   ]
  },
  {
   "cell_type": "markdown",
   "metadata": {
    "id": "0fEGwG8_QF2c"
   },
   "source": [
    "# Reading the CSV file with Pandas"
   ]
  },
  {
   "cell_type": "code",
   "execution_count": 7,
   "metadata": {
    "id": "8cordSSIPGxc"
   },
   "outputs": [],
   "source": [
    "df = pd.read_csv(\"C:/Users/MSI GF63/Desktop/ImageClassification/patient-characteristics-survey-pcs-2017-1.csv\",  skipinitialspace=True)"
   ]
  },
  {
   "cell_type": "code",
   "execution_count": 8,
   "metadata": {
    "colab": {
     "base_uri": "https://localhost:8080/"
    },
    "id": "ccrW541qxnI5",
    "outputId": "362e9d1f-1497-4ea9-f781-54a78c5da230"
   },
   "outputs": [
    {
     "data": {
      "text/plain": [
       "(187192, 67)"
      ]
     },
     "execution_count": 8,
     "metadata": {},
     "output_type": "execute_result"
    }
   ],
   "source": [
    "df.shape"
   ]
  },
  {
   "cell_type": "code",
   "execution_count": 9,
   "metadata": {
    "colab": {
     "base_uri": "https://localhost:8080/"
    },
    "id": "DSrsIfRqz8PQ",
    "outputId": "7d180eb5-55b8-48de-b8fc-ba3c661c3732"
   },
   "outputs": [
    {
     "data": {
      "text/plain": [
       "0"
      ]
     },
     "execution_count": 9,
     "metadata": {},
     "output_type": "execute_result"
    }
   ],
   "source": [
    "df.isnull().sum().sum()"
   ]
  },
  {
   "cell_type": "code",
   "execution_count": 10,
   "metadata": {
    "colab": {
     "base_uri": "https://localhost:8080/"
    },
    "id": "YDAvKPvBPyin",
    "outputId": "3882c71e-6c42-4559-9e6b-10e9bbd06241"
   },
   "outputs": [
    {
     "name": "stdout",
     "output_type": "stream",
     "text": [
      "   Survey Year Program Category         Region Served Age Group     Sex  \\\n",
      "0         2017       OUTPATIENT     CENTRAL NY REGION     ADULT  FEMALE   \n",
      "1         2017          SUPPORT        WESTERN REGION     ADULT  FEMALE   \n",
      "2         2017       OUTPATIENT     CENTRAL NY REGION     ADULT  FEMALE   \n",
      "3         2017       OUTPATIENT  NEW YORK CITY REGION     ADULT  FEMALE   \n",
      "4         2017       OUTPATIENT     CENTRAL NY REGION     ADULT    MALE   \n",
      "\n",
      "           Transgender        Sexual Orientation       Hispanic Ethnicity  \\\n",
      "0  NO, NOT TRANSGENDER  STRAIGHT OR HETEROSEXUAL  NO, NOT HISPANIC/LATINO   \n",
      "1  NO, NOT TRANSGENDER                   UNKNOWN  NO, NOT HISPANIC/LATINO   \n",
      "2  NO, NOT TRANSGENDER  STRAIGHT OR HETEROSEXUAL  NO, NOT HISPANIC/LATINO   \n",
      "3  NO, NOT TRANSGENDER  STRAIGHT OR HETEROSEXUAL  NO, NOT HISPANIC/LATINO   \n",
      "4  NO, NOT TRANSGENDER  STRAIGHT OR HETEROSEXUAL  NO, NOT HISPANIC/LATINO   \n",
      "\n",
      "         Race   Living Situation  ... Unknown Insurance Coverage No Insurance  \\\n",
      "0  WHITE ONLY  PRIVATE RESIDENCE  ...                         NO           NO   \n",
      "1  WHITE ONLY  PRIVATE RESIDENCE  ...                         NO           NO   \n",
      "2  WHITE ONLY  PRIVATE RESIDENCE  ...                         NO           NO   \n",
      "3  WHITE ONLY  PRIVATE RESIDENCE  ...                         NO           NO   \n",
      "4  WHITE ONLY  PRIVATE RESIDENCE  ...                        YES           NO   \n",
      "\n",
      "  Medicaid Insurance Medicaid Managed Insurance Medicare Insurance  \\\n",
      "0                YES                        YES                 NO   \n",
      "1                YES                    UNKNOWN                YES   \n",
      "2                YES                         NO                 NO   \n",
      "3                YES                         NO                YES   \n",
      "4                 NO             NOT APPLICABLE                 NO   \n",
      "\n",
      "  Private Insurance Child Health Plus Insurance Other Insurance  \\\n",
      "0                NO                          NO              NO   \n",
      "1                NO                          NO              NO   \n",
      "2                NO                          NO              NO   \n",
      "3                NO                          NO              NO   \n",
      "4                NO                          NO              NO   \n",
      "\n",
      "  Criminal Justice Status Three Digit Residence Zip Code  \n",
      "0                      NO                            132  \n",
      "1                 UNKNOWN                            146  \n",
      "2                      NO                            131  \n",
      "3                      NO                            112  \n",
      "4                      NO                            130  \n",
      "\n",
      "[5 rows x 67 columns]\n"
     ]
    }
   ],
   "source": [
    "print(df.head())"
   ]
  },
  {
   "cell_type": "code",
   "execution_count": 11,
   "metadata": {
    "id": "gP86lfWvM-Kx"
   },
   "outputs": [],
   "source": [
    "# Removing the null values\n",
    "df.dropna(how = 'any')\n",
    "\n",
    "# Remove Unknown data from the dataframe\n",
    "for column in df.columns:\n",
    "    df = df[(df[column] != 'UNKNOWN')]"
   ]
  },
  {
   "cell_type": "code",
   "execution_count": 12,
   "metadata": {
    "id": "LbK56y-6M-Kx"
   },
   "outputs": [],
   "source": [
    "# Encoding the data to numberical to better calculation\n",
    "\n",
    "le = preprocessing.LabelEncoder()\n",
    "\n",
    "for column in df.columns:\n",
    "    df[column] = le.fit_transform(df[column])"
   ]
  },
  {
   "cell_type": "code",
   "execution_count": 13,
   "metadata": {
    "colab": {
     "base_uri": "https://localhost:8080/"
    },
    "id": "kvBuQdFJQdsv",
    "outputId": "7cc9e757-8059-46c6-c11d-873fa9e60713"
   },
   "outputs": [
    {
     "name": "stdout",
     "output_type": "stream",
     "text": [
      "        Survey Year  Program Category  Region Served  Age Group  Sex  \\\n",
      "2                 0                 2              0          0    0   \n",
      "4                 0                 2              0          0    1   \n",
      "7                 0                 2              3          0    0   \n",
      "8                 0                 2              0          0    0   \n",
      "10                0                 2              4          0    1   \n",
      "...             ...               ...            ...        ...  ...   \n",
      "187184            0                 3              3          0    0   \n",
      "187186            0                 2              2          0    0   \n",
      "187187            0                 3              4          0    1   \n",
      "187190            0                 3              3          0    0   \n",
      "187191            0                 2              0          1    0   \n",
      "\n",
      "        Transgender  Sexual Orientation  Hispanic Ethnicity  Race  \\\n",
      "2                 1                   4                   0     4   \n",
      "4                 1                   4                   0     4   \n",
      "7                 1                   4                   0     4   \n",
      "8                 1                   4                   0     4   \n",
      "10                1                   4                   0     4   \n",
      "...             ...                 ...                 ...   ...   \n",
      "187184            1                   4                   1     1   \n",
      "187186            1                   4                   0     2   \n",
      "187187            1                   4                   1     0   \n",
      "187190            1                   4                   1     1   \n",
      "187191            1                   4                   0     4   \n",
      "\n",
      "        Living Situation  ...  Unknown Insurance Coverage  No Insurance  \\\n",
      "2                      2  ...                           0             0   \n",
      "4                      2  ...                           1             0   \n",
      "7                      2  ...                           0             0   \n",
      "8                      2  ...                           0             0   \n",
      "10                     1  ...                           0             0   \n",
      "...                  ...  ...                         ...           ...   \n",
      "187184                 2  ...                           0             0   \n",
      "187186                 1  ...                           0             0   \n",
      "187187                 1  ...                           0             0   \n",
      "187190                 1  ...                           0             0   \n",
      "187191                 2  ...                           0             0   \n",
      "\n",
      "        Medicaid Insurance  Medicaid Managed Insurance  Medicare Insurance  \\\n",
      "2                        1                           0                   0   \n",
      "4                        0                           1                   0   \n",
      "7                        0                           1                   1   \n",
      "8                        1                           0                   1   \n",
      "10                       1                           2                   0   \n",
      "...                    ...                         ...                 ...   \n",
      "187184                   1                           2                   0   \n",
      "187186                   1                           2                   0   \n",
      "187187                   1                           2                   0   \n",
      "187190                   1                           0                   0   \n",
      "187191                   1                           0                   0   \n",
      "\n",
      "        Private Insurance  Child Health Plus Insurance  Other Insurance  \\\n",
      "2                       0                            0                0   \n",
      "4                       0                            0                0   \n",
      "7                       0                            0                0   \n",
      "8                       0                            0                0   \n",
      "10                      0                            0                0   \n",
      "...                   ...                          ...              ...   \n",
      "187184                  0                            0                0   \n",
      "187186                  0                            0                1   \n",
      "187187                  0                            0                0   \n",
      "187190                  0                            0                0   \n",
      "187191                  0                            0                0   \n",
      "\n",
      "        Criminal Justice Status  Three Digit Residence Zip Code  \n",
      "2                             0                              30  \n",
      "4                             0                              29  \n",
      "7                             0                               0  \n",
      "8                             0                              36  \n",
      "10                            1                              49  \n",
      "...                         ...                             ...  \n",
      "187184                        1                               3  \n",
      "187186                        0                              14  \n",
      "187187                        0                              41  \n",
      "187190                        0                               3  \n",
      "187191                        0                              31  \n",
      "\n",
      "[64618 rows x 67 columns]\n"
     ]
    }
   ],
   "source": [
    "print(df)"
   ]
  },
  {
   "cell_type": "code",
   "execution_count": 14,
   "metadata": {
    "id": "HLNkT6zBM-Ky"
   },
   "outputs": [],
   "source": [
    "# Spliting the data into features and label\n",
    "\n",
    "X = df.loc[:, df.columns != 'Stroke']\n",
    "Y = df.loc[:, ['Stroke']].values.ravel()"
   ]
  },
  {
   "cell_type": "code",
   "execution_count": 15,
   "metadata": {
    "colab": {
     "base_uri": "https://localhost:8080/"
    },
    "id": "f7juykK2Q2rJ",
    "outputId": "9e000ac9-da2c-4dd5-c756-7985a0c24b78"
   },
   "outputs": [
    {
     "data": {
      "text/plain": [
       "66"
      ]
     },
     "execution_count": 15,
     "metadata": {},
     "output_type": "execute_result"
    }
   ],
   "source": [
    "len(X.columns)"
   ]
  },
  {
   "cell_type": "code",
   "execution_count": 16,
   "metadata": {
    "id": "KI_M9Zt9M-K1"
   },
   "outputs": [],
   "source": [
    "features = df.loc[:, ['No Chronic Med Condition','Age Group','Living Situation','Other Insurance','Endocrine Condition','Other Chronic Med Condition','Obesity','Special Education Services','Sex','Child Health Plus Insurance','Medicaid Managed Insurance','Autism Spectrum', 'Private Insurance', 'Medicare Insurance', 'Heart Attack', 'Transgender', 'Liver Disease', 'Drug Substance Disorder', 'Criminal Justice Status']]\n",
    "label = Y"
   ]
  },
  {
   "cell_type": "code",
   "execution_count": 17,
   "metadata": {
    "colab": {
     "base_uri": "https://localhost:8080/"
    },
    "id": "aXL6h-WsYM4U",
    "outputId": "adb3ff6a-06d8-46ff-fa69-0d633976245a"
   },
   "outputs": [
    {
     "data": {
      "text/plain": [
       "19"
      ]
     },
     "execution_count": 17,
     "metadata": {},
     "output_type": "execute_result"
    }
   ],
   "source": [
    "len(features.columns)"
   ]
  },
  {
   "cell_type": "code",
   "execution_count": 18,
   "metadata": {
    "colab": {
     "base_uri": "https://localhost:8080/"
    },
    "id": "QheuIvUcU4pr",
    "outputId": "1d0fcb06-515d-4ba8-c3f2-8ffcb35e40d1"
   },
   "outputs": [
    {
     "name": "stdout",
     "output_type": "stream",
     "text": [
      "        No Chronic Med Condition  Age Group  Living Situation  \\\n",
      "2                              0          0                 2   \n",
      "4                              1          0                 2   \n",
      "7                              0          0                 2   \n",
      "8                              0          0                 2   \n",
      "10                             0          0                 1   \n",
      "...                          ...        ...               ...   \n",
      "187184                         0          0                 2   \n",
      "187186                         0          0                 1   \n",
      "187187                         0          0                 1   \n",
      "187190                         0          0                 1   \n",
      "187191                         1          1                 2   \n",
      "\n",
      "        Other Insurance  Endocrine Condition  Other Chronic Med Condition  \\\n",
      "2                     0                    0                            0   \n",
      "4                     0                    0                            0   \n",
      "7                     0                    0                            1   \n",
      "8                     0                    0                            1   \n",
      "10                    0                    0                            0   \n",
      "...                 ...                  ...                          ...   \n",
      "187184                0                    0                            0   \n",
      "187186                1                    0                            0   \n",
      "187187                0                    0                            0   \n",
      "187190                0                    0                            0   \n",
      "187191                0                    0                            0   \n",
      "\n",
      "        Obesity  Special Education Services  Sex  Child Health Plus Insurance  \\\n",
      "2             1                           1    0                            0   \n",
      "4             0                           1    1                            0   \n",
      "7             0                           1    0                            0   \n",
      "8             1                           1    0                            0   \n",
      "10            0                           1    1                            0   \n",
      "...         ...                         ...  ...                          ...   \n",
      "187184        1                           1    0                            0   \n",
      "187186        0                           1    0                            0   \n",
      "187187        0                           1    1                            0   \n",
      "187190        1                           1    0                            0   \n",
      "187191        0                           2    0                            0   \n",
      "\n",
      "        Medicaid Managed Insurance  Autism Spectrum  Private Insurance  \\\n",
      "2                                0                0                  0   \n",
      "4                                1                0                  0   \n",
      "7                                1                0                  0   \n",
      "8                                0                0                  0   \n",
      "10                               2                0                  0   \n",
      "...                            ...              ...                ...   \n",
      "187184                           2                0                  0   \n",
      "187186                           2                0                  0   \n",
      "187187                           2                0                  0   \n",
      "187190                           0                0                  0   \n",
      "187191                           0                0                  0   \n",
      "\n",
      "        Medicare Insurance  Heart Attack  Transgender  Liver Disease  \\\n",
      "2                        0             0            1              0   \n",
      "4                        0             0            1              0   \n",
      "7                        1             0            1              0   \n",
      "8                        1             0            1              0   \n",
      "10                       0             0            1              0   \n",
      "...                    ...           ...          ...            ...   \n",
      "187184                   0             0            1              0   \n",
      "187186                   0             0            1              0   \n",
      "187187                   0             0            1              0   \n",
      "187190                   0             0            1              0   \n",
      "187191                   0             0            1              0   \n",
      "\n",
      "        Drug Substance Disorder  Criminal Justice Status  \n",
      "2                             0                        0  \n",
      "4                             0                        0  \n",
      "7                             1                        0  \n",
      "8                             0                        0  \n",
      "10                            0                        1  \n",
      "...                         ...                      ...  \n",
      "187184                        0                        1  \n",
      "187186                        0                        0  \n",
      "187187                        1                        0  \n",
      "187190                        0                        0  \n",
      "187191                        0                        0  \n",
      "\n",
      "[64618 rows x 19 columns]\n"
     ]
    }
   ],
   "source": [
    "print(features)"
   ]
  },
  {
   "cell_type": "code",
   "execution_count": 19,
   "metadata": {
    "colab": {
     "base_uri": "https://localhost:8080/"
    },
    "id": "Zy-8_fVVVCXY",
    "outputId": "ad6e6578-eb3f-4570-fef5-45c7b30b41a9"
   },
   "outputs": [
    {
     "name": "stdout",
     "output_type": "stream",
     "text": [
      "[0 0 0 ... 0 0 0]\n"
     ]
    }
   ],
   "source": [
    "print(label)"
   ]
  },
  {
   "cell_type": "code",
   "execution_count": 20,
   "metadata": {
    "id": "-V709foIM-K2"
   },
   "outputs": [],
   "source": [
    "from sklearn import svm\n",
    "# Selecting the appropriate model by checking their accuracy\n",
    "\n",
    "models=[]\n",
    "models.append((\"KNN\",KNeighborsClassifier()))\n",
    "models.append((\"Support vector Machine\",SVC()))\n",
    "models.append((\"GaussianNB\",GaussianNB()))\n",
    "models.append((\"Decesion\",DecisionTreeClassifier()))"
   ]
  },
  {
   "cell_type": "code",
   "execution_count": 21,
   "metadata": {
    "id": "_7gH8pROM-K3",
    "scrolled": true
   },
   "outputs": [],
   "source": [
    "# Setting up the parameters for kFold\n",
    "\n",
    "kv=KFold(n_splits=10, random_state=8, shuffle=True)"
   ]
  },
  {
   "cell_type": "code",
   "execution_count": 22,
   "metadata": {
    "colab": {
     "base_uri": "https://localhost:8080/"
    },
    "id": "-152u0KRM-K3",
    "outputId": "0ccbced7-a2ea-4ed3-bcda-3eb29bda8e18"
   },
   "outputs": [
    {
     "name": "stderr",
     "output_type": "stream",
     "text": [
      "C:\\conda\\lib\\site-packages\\sklearn\\neighbors\\_classification.py:228: FutureWarning: Unlike other reduction functions (e.g. `skew`, `kurtosis`), the default behavior of `mode` typically preserves the axis it acts along. In SciPy 1.11.0, this behavior will change: the default value of `keepdims` will become False, the `axis` over which the statistic is taken will be eliminated, and the value None will no longer be accepted. Set `keepdims` to True or False to avoid this warning.\n",
      "  mode, _ = stats.mode(_y[neigh_ind, k], axis=1)\n",
      "C:\\conda\\lib\\site-packages\\sklearn\\neighbors\\_classification.py:228: FutureWarning: Unlike other reduction functions (e.g. `skew`, `kurtosis`), the default behavior of `mode` typically preserves the axis it acts along. In SciPy 1.11.0, this behavior will change: the default value of `keepdims` will become False, the `axis` over which the statistic is taken will be eliminated, and the value None will no longer be accepted. Set `keepdims` to True or False to avoid this warning.\n",
      "  mode, _ = stats.mode(_y[neigh_ind, k], axis=1)\n",
      "C:\\conda\\lib\\site-packages\\sklearn\\neighbors\\_classification.py:228: FutureWarning: Unlike other reduction functions (e.g. `skew`, `kurtosis`), the default behavior of `mode` typically preserves the axis it acts along. In SciPy 1.11.0, this behavior will change: the default value of `keepdims` will become False, the `axis` over which the statistic is taken will be eliminated, and the value None will no longer be accepted. Set `keepdims` to True or False to avoid this warning.\n",
      "  mode, _ = stats.mode(_y[neigh_ind, k], axis=1)\n",
      "C:\\conda\\lib\\site-packages\\sklearn\\neighbors\\_classification.py:228: FutureWarning: Unlike other reduction functions (e.g. `skew`, `kurtosis`), the default behavior of `mode` typically preserves the axis it acts along. In SciPy 1.11.0, this behavior will change: the default value of `keepdims` will become False, the `axis` over which the statistic is taken will be eliminated, and the value None will no longer be accepted. Set `keepdims` to True or False to avoid this warning.\n",
      "  mode, _ = stats.mode(_y[neigh_ind, k], axis=1)\n",
      "C:\\conda\\lib\\site-packages\\sklearn\\neighbors\\_classification.py:228: FutureWarning: Unlike other reduction functions (e.g. `skew`, `kurtosis`), the default behavior of `mode` typically preserves the axis it acts along. In SciPy 1.11.0, this behavior will change: the default value of `keepdims` will become False, the `axis` over which the statistic is taken will be eliminated, and the value None will no longer be accepted. Set `keepdims` to True or False to avoid this warning.\n",
      "  mode, _ = stats.mode(_y[neigh_ind, k], axis=1)\n",
      "C:\\conda\\lib\\site-packages\\sklearn\\neighbors\\_classification.py:228: FutureWarning: Unlike other reduction functions (e.g. `skew`, `kurtosis`), the default behavior of `mode` typically preserves the axis it acts along. In SciPy 1.11.0, this behavior will change: the default value of `keepdims` will become False, the `axis` over which the statistic is taken will be eliminated, and the value None will no longer be accepted. Set `keepdims` to True or False to avoid this warning.\n",
      "  mode, _ = stats.mode(_y[neigh_ind, k], axis=1)\n",
      "C:\\conda\\lib\\site-packages\\sklearn\\neighbors\\_classification.py:228: FutureWarning: Unlike other reduction functions (e.g. `skew`, `kurtosis`), the default behavior of `mode` typically preserves the axis it acts along. In SciPy 1.11.0, this behavior will change: the default value of `keepdims` will become False, the `axis` over which the statistic is taken will be eliminated, and the value None will no longer be accepted. Set `keepdims` to True or False to avoid this warning.\n",
      "  mode, _ = stats.mode(_y[neigh_ind, k], axis=1)\n",
      "C:\\conda\\lib\\site-packages\\sklearn\\neighbors\\_classification.py:228: FutureWarning: Unlike other reduction functions (e.g. `skew`, `kurtosis`), the default behavior of `mode` typically preserves the axis it acts along. In SciPy 1.11.0, this behavior will change: the default value of `keepdims` will become False, the `axis` over which the statistic is taken will be eliminated, and the value None will no longer be accepted. Set `keepdims` to True or False to avoid this warning.\n",
      "  mode, _ = stats.mode(_y[neigh_ind, k], axis=1)\n",
      "C:\\conda\\lib\\site-packages\\sklearn\\neighbors\\_classification.py:228: FutureWarning: Unlike other reduction functions (e.g. `skew`, `kurtosis`), the default behavior of `mode` typically preserves the axis it acts along. In SciPy 1.11.0, this behavior will change: the default value of `keepdims` will become False, the `axis` over which the statistic is taken will be eliminated, and the value None will no longer be accepted. Set `keepdims` to True or False to avoid this warning.\n",
      "  mode, _ = stats.mode(_y[neigh_ind, k], axis=1)\n",
      "C:\\conda\\lib\\site-packages\\sklearn\\neighbors\\_classification.py:228: FutureWarning: Unlike other reduction functions (e.g. `skew`, `kurtosis`), the default behavior of `mode` typically preserves the axis it acts along. In SciPy 1.11.0, this behavior will change: the default value of `keepdims` will become False, the `axis` over which the statistic is taken will be eliminated, and the value None will no longer be accepted. Set `keepdims` to True or False to avoid this warning.\n",
      "  mode, _ = stats.mode(_y[neigh_ind, k], axis=1)\n"
     ]
    },
    {
     "name": "stdout",
     "output_type": "stream",
     "text": [
      "KNN 0.9844315733699389 \n",
      "\n",
      "Support vector Machine 0.9850351088748045 \n",
      "\n",
      "GaussianNB 0.4409453243518919 \n",
      "\n",
      "Decesion 0.983642327263105 \n",
      "\n"
     ]
    }
   ],
   "source": [
    "# Checking the accuracy for each listed above model\n",
    "\n",
    "for names,model in models:\n",
    "    results=cross_val_score(model,features,label,cv=kv,scoring=\"accuracy\")\n",
    "    print(names,results.mean(),\"\\n\")"
   ]
  },
  {
   "cell_type": "code",
   "execution_count": 23,
   "metadata": {
    "colab": {
     "base_uri": "https://localhost:8080/"
    },
    "id": "sQ4FDURtM-K3",
    "outputId": "abe060a2-14a9-491b-e4b0-e456405ebf42"
   },
   "outputs": [
    {
     "name": "stdout",
     "output_type": "stream",
     "text": [
      "[1 1 1 ... 1 1 0]\n"
     ]
    }
   ],
   "source": [
    "#Gaussian Naive Bayes \n",
    "\n",
    "# Split features and label in train and test\n",
    "X_train, X_test, Y_train, Y_test = train_test_split(features, label, test_size=0.5, random_state=0)\n",
    "\n",
    "# Call GaussianNB object\n",
    "gnb = GaussianNB()\n",
    "\n",
    "# Train the model\n",
    "gnb.fit(X_train, Y_train)\n",
    "\n",
    "# Predict the test data\n",
    "Y_pred = gnb.predict(X_test)\n",
    "print(Y_pred)"
   ]
  },
  {
   "cell_type": "code",
   "execution_count": 24,
   "metadata": {
    "colab": {
     "base_uri": "https://localhost:8080/"
    },
    "id": "H1aqXTtrM-K4",
    "outputId": "49f180e0-93b5-462a-d47b-c059acafa24e",
    "scrolled": true
   },
   "outputs": [
    {
     "name": "stdout",
     "output_type": "stream",
     "text": [
      "Accuracy: 43.28205763100065 %\n"
     ]
    }
   ],
   "source": [
    "# Print the Accuracy score\n",
    "\n",
    "print(\"Accuracy:\", metrics.accuracy_score(Y_test, Y_pred) * 100, '%')"
   ]
  },
  {
   "cell_type": "code",
   "execution_count": 25,
   "metadata": {
    "colab": {
     "base_uri": "https://localhost:8080/"
    },
    "id": "j61-HI3JdLrp",
    "outputId": "598c3d38-eabe-4315-95b4-6a86352eb49d"
   },
   "outputs": [
    {
     "name": "stderr",
     "output_type": "stream",
     "text": [
      "C:\\conda\\lib\\site-packages\\sklearn\\neighbors\\_classification.py:228: FutureWarning: Unlike other reduction functions (e.g. `skew`, `kurtosis`), the default behavior of `mode` typically preserves the axis it acts along. In SciPy 1.11.0, this behavior will change: the default value of `keepdims` will become False, the `axis` over which the statistic is taken will be eliminated, and the value None will no longer be accepted. Set `keepdims` to True or False to avoid this warning.\n",
      "  mode, _ = stats.mode(_y[neigh_ind, k], axis=1)\n"
     ]
    },
    {
     "name": "stdout",
     "output_type": "stream",
     "text": [
      "[0 0 0 ... 0 0 0]\n"
     ]
    }
   ],
   "source": [
    "#KNN\n",
    "\n",
    "# Split features and label in train and test\n",
    "X_train, X_test, Y_train, Y_test = train_test_split(features, label, test_size=0.5, random_state=0)\n",
    "\n",
    "# Call GaussianNB object\n",
    "knn = KNeighborsClassifier()\n",
    "\n",
    "# Train the model\n",
    "knn.fit(X_train, Y_train)\n",
    "\n",
    "# Predict the test data\n",
    "Y_pred = knn.predict(X_test)\n",
    "print(Y_pred)"
   ]
  },
  {
   "cell_type": "code",
   "execution_count": 26,
   "metadata": {
    "colab": {
     "base_uri": "https://localhost:8080/"
    },
    "id": "xUo7hLVTdtKC",
    "outputId": "373e63d2-1fcb-4748-d831-eba30bba4b76"
   },
   "outputs": [
    {
     "name": "stdout",
     "output_type": "stream",
     "text": [
      "Accuracy: 98.56696276579281 %\n"
     ]
    }
   ],
   "source": [
    "# Print the Accuracy score\n",
    "\n",
    "print(\"Accuracy:\", metrics.accuracy_score(Y_test, Y_pred) * 100, '%')"
   ]
  },
  {
   "cell_type": "code",
   "execution_count": 27,
   "metadata": {
    "colab": {
     "base_uri": "https://localhost:8080/"
    },
    "id": "MOrci51aeK-L",
    "outputId": "38eddcb8-5184-434a-83e6-66872aeef554"
   },
   "outputs": [
    {
     "name": "stdout",
     "output_type": "stream",
     "text": [
      "[0 0 0 ... 0 0 0]\n"
     ]
    }
   ],
   "source": [
    "#SVM\n",
    "\n",
    "# Split features and label in train and test\n",
    "X_train, X_test, Y_train, Y_test = train_test_split(features, label, test_size=0.5, random_state=0)\n",
    "\n",
    "# Call GaussianNB object\n",
    "SVM = SVC()\n",
    "\n",
    "# Train the model\n",
    "SVM.fit(X_train, Y_train)\n",
    "\n",
    "# Predict the test data\n",
    "Y_pred = SVM.predict(X_test)\n",
    "print(Y_pred)"
   ]
  },
  {
   "cell_type": "code",
   "execution_count": 28,
   "metadata": {
    "colab": {
     "base_uri": "https://localhost:8080/"
    },
    "id": "PAU8etrneoV0",
    "outputId": "9d640c1e-d8b3-4046-ef15-db5bef8a55f8"
   },
   "outputs": [
    {
     "name": "stdout",
     "output_type": "stream",
     "text": [
      "Accuracy: 98.62267479649634 %\n"
     ]
    }
   ],
   "source": [
    "# Print the Accuracy score\n",
    "\n",
    "print(\"Accuracy:\", metrics.accuracy_score(Y_test, Y_pred) * 100, '%')"
   ]
  },
  {
   "cell_type": "markdown",
   "metadata": {
    "id": "6TTWhTSNes35"
   },
   "source": [
    "##Traning accuracy:0.9850351088748045 \n",
    "## Testing accuracy: 98.62267479649634 %"
   ]
  },
  {
   "cell_type": "code",
   "execution_count": 29,
   "metadata": {
    "colab": {
     "base_uri": "https://localhost:8080/"
    },
    "id": "Bqz8--TIe9d-",
    "outputId": "493a831b-a096-4aa4-9b51-3e32d026fcfb"
   },
   "outputs": [
    {
     "name": "stdout",
     "output_type": "stream",
     "text": [
      "[0 0 0 ... 0 0 0]\n"
     ]
    }
   ],
   "source": [
    "#Decision \n",
    "\n",
    "# Split features and label in train and test\n",
    "X_train, X_test, Y_train, Y_test = train_test_split(features, label, test_size=0.5, random_state=0)\n",
    "\n",
    "# Call GaussianNB object\n",
    "decisiontree = DecisionTreeClassifier()\n",
    "\n",
    "# Train the model\n",
    "decisiontree.fit(X_train, Y_train)\n",
    "\n",
    "# Predict the test data\n",
    "Y_pred = decisiontree.predict(X_test)\n",
    "print(Y_pred)"
   ]
  },
  {
   "cell_type": "code",
   "execution_count": 30,
   "metadata": {
    "colab": {
     "base_uri": "https://localhost:8080/"
    },
    "id": "ECsG50mofNyc",
    "outputId": "a5c65acf-5ec0-45c9-f0a1-43e1d31cca75"
   },
   "outputs": [
    {
     "name": "stdout",
     "output_type": "stream",
     "text": [
      "Accuracy: 98.38125599678108 %\n"
     ]
    }
   ],
   "source": [
    "# Print the Accuracy score\n",
    "\n",
    "print(\"Accuracy:\", metrics.accuracy_score(Y_test, Y_pred) * 100, '%')"
   ]
  },
  {
   "cell_type": "markdown",
   "metadata": {
    "id": "nOl7mIw5fPvi"
   },
   "source": [
    "## Training accuracy: 0.9655823903734767 \n",
    "## Testing accuracy: 96.44371537342536 %"
   ]
  },
  {
   "cell_type": "code",
   "execution_count": 31,
   "metadata": {
    "colab": {
     "base_uri": "https://localhost:8080/"
    },
    "id": "--fE1o50M-K4",
    "outputId": "18e7209e-87b3-4c0c-907c-0919cdf31891"
   },
   "outputs": [
    {
     "name": "stdout",
     "output_type": "stream",
     "text": [
      "False Positive Rate [0.         0.00279312 1.        ]\n",
      "True Positive Rate [0.        0.0247191 1.       ]\n",
      "Threshold [2 1 0]\n"
     ]
    }
   ],
   "source": [
    "# ROC Curve\n",
    "\n",
    "fpr, tpr, thresholds = metrics.roc_curve(Y_test, Y_pred)\n",
    "print(\"False Positive Rate\", fpr)\n",
    "print(\"True Positive Rate\", tpr)\n",
    "print(\"Threshold\", thresholds)"
   ]
  },
  {
   "cell_type": "code",
   "execution_count": 32,
   "metadata": {
    "colab": {
     "base_uri": "https://localhost:8080/"
    },
    "id": "sCeH0qyzM-K4",
    "outputId": "e8be5a17-b10c-419c-9a38-9cac60c6357c"
   },
   "outputs": [
    {
     "name": "stdout",
     "output_type": "stream",
     "text": [
      "Logarithmic Loss:  0.559096574289195\n"
     ]
    }
   ],
   "source": [
    "# Logarithmic Loss\n",
    "\n",
    "log_loss = metrics.log_loss(Y_test, Y_pred)\n",
    "print(\"Logarithmic Loss: \", log_loss)"
   ]
  },
  {
   "cell_type": "code",
   "execution_count": 33,
   "metadata": {
    "colab": {
     "base_uri": "https://localhost:8080/"
    },
    "id": "Cxp_CWGdM-K5",
    "outputId": "564b6e30-c296-4211-d9c4-a37bcb03f5f7"
   },
   "outputs": [
    {
     "name": "stdout",
     "output_type": "stream",
     "text": [
      "              precision    recall  f1-score   support\n",
      "\n",
      "           0       0.99      1.00      0.99     31864\n",
      "           1       0.11      0.02      0.04       445\n",
      "\n",
      "    accuracy                           0.98     32309\n",
      "   macro avg       0.55      0.51      0.52     32309\n",
      "weighted avg       0.97      0.98      0.98     32309\n",
      "\n"
     ]
    }
   ],
   "source": [
    "# print the Classification Report\n",
    "\n",
    "class_report = classification_report(Y_test,Y_pred)\n",
    "print(class_report)"
   ]
  },
  {
   "cell_type": "code",
   "execution_count": 34,
   "metadata": {
    "colab": {
     "base_uri": "https://localhost:8080/"
    },
    "id": "MhJ5hmX9M-K5",
    "outputId": "0c69deb5-7d14-4d39-81ad-225170c2f1f6"
   },
   "outputs": [
    {
     "name": "stdout",
     "output_type": "stream",
     "text": [
      "[[31775    89]\n",
      " [  434    11]]\n"
     ]
    }
   ],
   "source": [
    "# Print Confusin Matrix\n",
    "\n",
    "conf_mat=confusion_matrix(Y_test,Y_pred)\n",
    "print(conf_mat)"
   ]
  },
  {
   "cell_type": "code",
   "execution_count": 35,
   "metadata": {},
   "outputs": [
    {
     "name": "stdout",
     "output_type": "stream",
     "text": [
      "donee\n"
     ]
    }
   ],
   "source": [
    "print(\"donee\")"
   ]
  },
  {
   "cell_type": "code",
   "execution_count": null,
   "metadata": {},
   "outputs": [],
   "source": []
  },
  {
   "cell_type": "code",
   "execution_count": 36,
   "metadata": {},
   "outputs": [],
   "source": [
    "# save the model\n",
    "import pickle\n",
    "filename='predstroke.pkl'\n",
    "pickle.dump(SVM,open(filename,'wb'))"
   ]
  },
  {
   "cell_type": "code",
   "execution_count": 37,
   "metadata": {},
   "outputs": [],
   "source": [
    "load_model=pickle.load(open(filename,'rb'))"
   ]
  },
  {
   "cell_type": "code",
   "execution_count": 47,
   "metadata": {},
   "outputs": [
    {
     "name": "stderr",
     "output_type": "stream",
     "text": [
      "C:\\conda\\lib\\site-packages\\sklearn\\base.py:450: UserWarning: X does not have valid feature names, but SVC was fitted with feature names\n",
      "  warnings.warn(\n"
     ]
    },
    {
     "data": {
      "text/plain": [
       "array([0])"
      ]
     },
     "execution_count": 47,
     "metadata": {},
     "output_type": "execute_result"
    }
   ],
   "source": [
    "res=load_model.predict([[1.0,1.0,1.0,1.0,0.0,0.0,1.0,1.0,1.0,1.0,1.0,1.0,1.0,1.0,1.0,1.0,1.0,1.0,1.0]])\n",
    "res\n"
   ]
  },
  {
   "cell_type": "code",
   "execution_count": 43,
   "metadata": {},
   "outputs": [
    {
     "data": {
      "text/plain": [
       "No Chronic Med Condition       1\n",
       "Age Group                      0\n",
       "Living Situation               2\n",
       "Other Insurance                0\n",
       "Endocrine Condition            0\n",
       "Other Chronic Med Condition    0\n",
       "Obesity                        0\n",
       "Special Education Services     1\n",
       "Sex                            1\n",
       "Child Health Plus Insurance    0\n",
       "Medicaid Managed Insurance     2\n",
       "Autism Spectrum                0\n",
       "Private Insurance              0\n",
       "Medicare Insurance             0\n",
       "Heart Attack                   0\n",
       "Transgender                    1\n",
       "Liver Disease                  0\n",
       "Drug Substance Disorder        0\n",
       "Criminal Justice Status        0\n",
       "Name: 121417, dtype: int32"
      ]
     },
     "execution_count": 43,
     "metadata": {},
     "output_type": "execute_result"
    }
   ],
   "source": [
    "X_train.iloc[1]"
   ]
  },
  {
   "cell_type": "code",
   "execution_count": 39,
   "metadata": {},
   "outputs": [
    {
     "name": "stdout",
     "output_type": "stream",
     "text": [
      "you are fine future hamdoulah\n"
     ]
    }
   ],
   "source": [
    "if res[0]==1:\n",
    "    print(\"you risk to have a stroke in the future\")\n",
    "else:\n",
    "    print(\"you are fine future hamdoulah\")"
   ]
  },
  {
   "cell_type": "code",
   "execution_count": null,
   "metadata": {},
   "outputs": [],
   "source": []
  },
  {
   "cell_type": "code",
   "execution_count": null,
   "metadata": {},
   "outputs": [],
   "source": []
  },
  {
   "cell_type": "code",
   "execution_count": null,
   "metadata": {},
   "outputs": [],
   "source": []
  }
 ],
 "metadata": {
  "colab": {
   "provenance": []
  },
  "kernelspec": {
   "display_name": "Python 3 (ipykernel)",
   "language": "python",
   "name": "python3"
  },
  "language_info": {
   "codemirror_mode": {
    "name": "ipython",
    "version": 3
   },
   "file_extension": ".py",
   "mimetype": "text/x-python",
   "name": "python",
   "nbconvert_exporter": "python",
   "pygments_lexer": "ipython3",
   "version": "3.9.13"
  },
  "vscode": {
   "interpreter": {
    "hash": "09bbcad81ddf18bfe68c91fae7d8545d2a08e3e65da1963128043784a554621b"
   }
  }
 },
 "nbformat": 4,
 "nbformat_minor": 1
}
