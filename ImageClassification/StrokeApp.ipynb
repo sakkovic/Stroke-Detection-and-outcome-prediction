{
 "cells": [
  {
   "cell_type": "code",
   "execution_count": 1,
   "id": "960df35d",
   "metadata": {
    "scrolled": true
   },
   "outputs": [
    {
     "name": "stdout",
     "output_type": "stream",
     "text": [
      " * Serving Flask app \"__main__\" (lazy loading)\n",
      " * Environment: production\n",
      "\u001b[31m   WARNING: This is a development server. Do not use it in a production deployment.\u001b[0m\n",
      "\u001b[2m   Use a production WSGI server instead.\u001b[0m\n",
      " * Debug mode: on\n"
     ]
    },
    {
     "name": "stderr",
     "output_type": "stream",
     "text": [
      " * Restarting with watchdog (windowsapi)\n"
     ]
    },
    {
     "ename": "SystemExit",
     "evalue": "1",
     "output_type": "error",
     "traceback": [
      "An exception has occurred, use %tb to see the full traceback.\n",
      "\u001b[1;31mSystemExit\u001b[0m\u001b[1;31m:\u001b[0m 1\n"
     ]
    },
    {
     "name": "stderr",
     "output_type": "stream",
     "text": [
      "C:\\Users\\MSI GF63\\AppData\\Roaming\\Python\\Python39\\site-packages\\IPython\\core\\interactiveshell.py:3441: UserWarning: To exit: use 'exit', 'quit', or Ctrl-D.\n",
      "  warn(\"To exit: use 'exit', 'quit', or Ctrl-D.\", stacklevel=1)\n"
     ]
    }
   ],
   "source": [
    "from flask import Flask, render_template, request\n",
    "from keras.models import load_model\n",
    "from keras.preprocessing import image\n",
    "import keras\n",
    "import cv2\n",
    "import tensorflow as tf\n",
    "import os\n",
    "import numpy as np\n",
    "\n",
    "\n",
    "app = Flask(__name__)\n",
    "\n",
    "dic = {0: 'Normale', 1: 'Stroke'}\n",
    "\n",
    "model = load_model(\n",
    "    'C:/Users/MSI GF63/Desktop/ImageClassification/models/imageclassifier.h5')\n",
    "\n",
    "model.make_predict_function()\n",
    "\n",
    "# def predict_label(img_path):\n",
    "# # img = cv2.imread(img_path,0)\n",
    "# # img = cv2.resize(img, (256,256))\n",
    "# # p = model.predict(np.expand_dims(img,0))\n",
    "# # i = image.load_img(img_path, target_size=((256,256)))\n",
    "# i = image.img_to_array(i)/255.0\n",
    "# i = i.reshape(1, 256,256,1\n",
    "# p = model.predict_classes(i)\n",
    "# return dic[p[0]]\n",
    "\n",
    "\n",
    "def predict_label(img_path):\n",
    "    i = keras.utils.load_img('img_path', target_size=(256, 256))\n",
    "\n",
    "    # i = image.load_img(img_path, target_size=(256, 256))\n",
    "    i = image.img_to_array(i)/255.0\n",
    "    i = i.reshape(1, 256, 256, 1)\n",
    "    p = model.predict_classes(np.expand_dims(i, 0))\n",
    "    return dic[p[0]]\n",
    "\n",
    "# routes\n",
    "\n",
    "\n",
    "@app.route(\"/\", methods=['GET', 'POST'])\n",
    "def main():\n",
    "    return render_template(\"index.html\")\n",
    "\n",
    "\n",
    "@app.route(\"/about\")\n",
    "def about_page():\n",
    "    return \"Please subscribe  Artificial Intelligence Hub..!!!\"\n",
    "\n",
    "\n",
    "@app.route(\"/submit\", methods=['GET', 'POST'])\n",
    "def get_output():\n",
    "    if request.method == 'POST':\n",
    "        img = request.files['my_image']\n",
    "\n",
    "        img_path = \"static/\" + img.filename\n",
    "        img.save(img_path)\n",
    "\n",
    "        p = predict_label(img_path)\n",
    "\n",
    "    return render_template(\"index.html\", prediction=p, img_path=img_path)\n",
    "\n",
    "\n",
    "if __name__ == '__main__':\n",
    "    #app.debug = True\n",
    "    app.run(debug=True)\n"
   ]
  },
  {
   "cell_type": "code",
   "execution_count": null,
   "id": "ff2e59f5",
   "metadata": {},
   "outputs": [],
   "source": []
  },
  {
   "cell_type": "code",
   "execution_count": null,
   "id": "a5372ac8",
   "metadata": {},
   "outputs": [],
   "source": []
  }
 ],
 "metadata": {
  "kernelspec": {
   "display_name": "Python 3 (ipykernel)",
   "language": "python",
   "name": "python3"
  },
  "language_info": {
   "codemirror_mode": {
    "name": "ipython",
    "version": 3
   },
   "file_extension": ".py",
   "mimetype": "text/x-python",
   "name": "python",
   "nbconvert_exporter": "python",
   "pygments_lexer": "ipython3",
   "version": "3.9.13"
  },
  "vscode": {
   "interpreter": {
    "hash": "09bbcad81ddf18bfe68c91fae7d8545d2a08e3e65da1963128043784a554621b"
   }
  }
 },
 "nbformat": 4,
 "nbformat_minor": 5
}
